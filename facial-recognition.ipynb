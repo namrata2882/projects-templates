{
 "cells": [
  {
   "cell_type": "code",
   "execution_count": null,
   "id": "0777652d",
   "metadata": {},
   "outputs": [],
   "source": [
    "!pip install opencv-python\n"
   ]
  },
  {
   "cell_type": "code",
   "execution_count": 23,
   "id": "9bc93261",
   "metadata": {},
   "outputs": [
    {
     "name": "stdout",
     "output_type": "stream",
     "text": [
      "Requirement already satisfied: opencv-python in c:\\anaconda\\lib\\site-packages (4.8.1.78)\n",
      "Requirement already satisfied: numpy>=1.17.0 in c:\\anaconda\\lib\\site-packages (from opencv-python) (1.21.5)\n"
     ]
    }
   ],
   "source": [
    "!pip install opencv-python\n"
   ]
  },
  {
   "cell_type": "code",
   "execution_count": 1,
   "id": "c49b73a4",
   "metadata": {},
   "outputs": [
    {
     "name": "stdout",
     "output_type": "stream",
     "text": [
      "Requirement already satisfied: numpy in c:\\anaconda\\lib\\site-packages (1.26.0)\n"
     ]
    }
   ],
   "source": [
    "!pip install --upgrade numpy"
   ]
  },
  {
   "cell_type": "code",
   "execution_count": 2,
   "id": "0c1296ac",
   "metadata": {},
   "outputs": [],
   "source": [
    "import cv2"
   ]
  },
  {
   "cell_type": "code",
   "execution_count": 3,
   "id": "a8c2fd86",
   "metadata": {},
   "outputs": [],
   "source": [
    "import numpy as np"
   ]
  },
  {
   "cell_type": "code",
   "execution_count": 10,
   "id": "cc130b03",
   "metadata": {},
   "outputs": [
    {
     "name": "stdout",
     "output_type": "stream",
     "text": [
      "Microsoft Windows [Version 10.0.19045.3448]\r\n",
      "(c) Microsoft Corporation. All rights reserved.\r\n",
      "\r\n",
      "C:\\anaconda\\envs>pip install cmake\n",
      "Collecting cmake\r\n",
      "  Downloading cmake-3.27.6-py2.py3-none-win_amd64.whl (34.6 MB)\r\n",
      "     ---------------------------------------- 34.6/34.6 MB 9.2 MB/s eta 0:00:00\r\n",
      "Installing collected packages: cmake\r\n",
      "Successfully installed cmake-3.27.6\r\n",
      "\r\n",
      "C:\\anaconda\\envs>"
     ]
    }
   ],
   "source": [
    "%%cmd\n",
    "pip install cmake"
   ]
  },
  {
   "cell_type": "code",
   "execution_count": 4,
   "id": "2118cfb4",
   "metadata": {},
   "outputs": [
    {
     "name": "stdout",
     "output_type": "stream",
     "text": [
      "Microsoft Windows [Version 10.0.19045.3448]\r\n",
      "(c) Microsoft Corporation. All rights reserved.\r\n",
      "\r\n",
      "C:\\anaconda\\envs>where python\n",
      "C:\\anaconda\\python.exe\r\n",
      "\r\n",
      "C:\\anaconda\\envs>"
     ]
    }
   ],
   "source": [
    "%%cmd\n",
    "where python"
   ]
  },
  {
   "cell_type": "code",
   "execution_count": 5,
   "id": "b6a593df",
   "metadata": {},
   "outputs": [],
   "source": [
    "import cv2"
   ]
  },
  {
   "cell_type": "code",
   "execution_count": 6,
   "id": "085f0f3e",
   "metadata": {},
   "outputs": [
    {
     "name": "stdout",
     "output_type": "stream",
     "text": [
      "Microsoft Windows [Version 10.0.19045.3448]\r\n",
      "(c) Microsoft Corporation. All rights reserved.\r\n",
      "\r\n",
      "C:\\anaconda\\envs>python --version\n",
      "Python 3.9.13\r\n",
      "\r\n",
      "C:\\anaconda\\envs>"
     ]
    }
   ],
   "source": [
    "%%cmd\n",
    "python --version"
   ]
  },
  {
   "cell_type": "code",
   "execution_count": 7,
   "id": "78580499",
   "metadata": {},
   "outputs": [
    {
     "name": "stdout",
     "output_type": "stream",
     "text": [
      "Microsoft Windows [Version 10.0.19045.3448]\r\n",
      "(c) Microsoft Corporation. All rights reserved.\r\n",
      "\r\n",
      "C:\\anaconda\\envs>pip install \"C:\\Users\\NAMRATA\\machine_learning\"\n",
      "\r\n",
      "C:\\anaconda\\envs>"
     ]
    },
    {
     "name": "stderr",
     "output_type": "stream",
     "text": [
      "ERROR: Directory 'C:\\\\Users\\\\NAMRATA\\\\machine_learning' is not installable. Neither 'setup.py' nor 'pyproject.toml' found.\r\n"
     ]
    }
   ],
   "source": [
    "%%cmd \n",
    "pip install \"C:\\Users\\NAMRATA\\machine_learning\""
   ]
  },
  {
   "cell_type": "code",
   "execution_count": 15,
   "id": "52083442",
   "metadata": {},
   "outputs": [
    {
     "name": "stdout",
     "output_type": "stream",
     "text": [
      "Microsoft Windows [Version 10.0.19045.3448]\r\n",
      "(c) Microsoft Corporation. All rights reserved.\r\n",
      "\r\n",
      "C:\\anaconda\\envs>pip install \"C:\\anaconda\\envs\"\n",
      "\r\n",
      "C:\\anaconda\\envs>"
     ]
    },
    {
     "name": "stderr",
     "output_type": "stream",
     "text": [
      "ERROR: Directory 'C:\\\\anaconda\\\\envs' is not installable. Neither 'setup.py' nor 'pyproject.toml' found.\r\n"
     ]
    }
   ],
   "source": [
    "%%cmd \n",
    "pip install \"C:\\anaconda\\envs\""
   ]
  },
  {
   "cell_type": "code",
   "execution_count": 8,
   "id": "5d7dce00",
   "metadata": {},
   "outputs": [
    {
     "name": "stdout",
     "output_type": "stream",
     "text": [
      "Microsoft Windows [Version 10.0.19045.3448]\r\n",
      "(c) Microsoft Corporation. All rights reserved.\r\n",
      "\r\n",
      "C:\\anaconda\\envs>pip install \"C:\\Users\\NAMRATA\\Downloads\\dlib-19.22.99-cp39-cp39-win_amd64.whl\"\n",
      "Processing c:\\users\\namrata\\downloads\\dlib-19.22.99-cp39-cp39-win_amd64.whl\r\n",
      "dlib is already installed with the same version as the provided wheel. Use --force-reinstall to force an installation of the wheel.\r\n",
      "\r\n",
      "C:\\anaconda\\envs>"
     ]
    }
   ],
   "source": [
    "%%cmd \n",
    "pip install \"C:\\Users\\NAMRATA\\Downloads\\dlib-19.22.99-cp39-cp39-win_amd64.whl\""
   ]
  },
  {
   "cell_type": "code",
   "execution_count": 9,
   "id": "60012133",
   "metadata": {},
   "outputs": [],
   "source": [
    "import cv2"
   ]
  },
  {
   "cell_type": "code",
   "execution_count": 10,
   "id": "af93be5f",
   "metadata": {},
   "outputs": [
    {
     "name": "stdout",
     "output_type": "stream",
     "text": [
      "Microsoft Windows [Version 10.0.19045.3448]\r\n",
      "(c) Microsoft Corporation. All rights reserved.\r\n",
      "\r\n",
      "C:\\anaconda\\envs>pip install face-recognition\n",
      "Requirement already satisfied: face-recognition in c:\\anaconda\\lib\\site-packages (1.3.0)\r\n",
      "Requirement already satisfied: Pillow in c:\\anaconda\\lib\\site-packages (from face-recognition) (9.2.0)\r\n",
      "Requirement already satisfied: dlib>=19.7 in c:\\anaconda\\lib\\site-packages (from face-recognition) (19.22.99)\r\n",
      "Requirement already satisfied: Click>=6.0 in c:\\anaconda\\lib\\site-packages (from face-recognition) (8.0.4)\r\n",
      "Requirement already satisfied: numpy in c:\\anaconda\\lib\\site-packages (from face-recognition) (1.26.0)\r\n",
      "Requirement already satisfied: face-recognition-models>=0.3.0 in c:\\anaconda\\lib\\site-packages (from face-recognition) (0.3.0)\r\n",
      "Requirement already satisfied: colorama in c:\\anaconda\\lib\\site-packages (from Click>=6.0->face-recognition) (0.4.5)\r\n",
      "\r\n",
      "C:\\anaconda\\envs>"
     ]
    }
   ],
   "source": [
    "%%cmd\n",
    "pip install face-recognition"
   ]
  },
  {
   "cell_type": "code",
   "execution_count": 11,
   "id": "03ab41ec",
   "metadata": {},
   "outputs": [
    {
     "name": "stdout",
     "output_type": "stream",
     "text": [
      "Requirement already satisfied: numpy in c:\\anaconda\\lib\\site-packages (1.26.0)\n"
     ]
    }
   ],
   "source": [
    "!pip install numpy"
   ]
  },
  {
   "cell_type": "code",
   "execution_count": 12,
   "id": "1c89c730",
   "metadata": {},
   "outputs": [
    {
     "name": "stdout",
     "output_type": "stream",
     "text": [
      "Requirement already satisfied: pillow in c:\\anaconda\\lib\\site-packages (9.2.0)\n"
     ]
    }
   ],
   "source": [
    "!pip install pillow"
   ]
  },
  {
   "cell_type": "code",
   "execution_count": 16,
   "id": "6265e8c3",
   "metadata": {},
   "outputs": [
    {
     "name": "stdout",
     "output_type": "stream",
     "text": [
      "Collecting opencv-python-headless\n",
      "  Using cached opencv_python_headless-4.8.1.78-cp37-abi3-win_amd64.whl (38.0 MB)\n",
      "Requirement already satisfied: numpy>=1.17.0 in c:\\anaconda\\lib\\site-packages (from opencv-python-headless) (1.26.0)\n",
      "Installing collected packages: opencv-python-headless\n",
      "Successfully installed opencv-python-headless-4.8.1.78\n"
     ]
    }
   ],
   "source": [
    "!pip install --user opencv-python-headless"
   ]
  },
  {
   "cell_type": "code",
   "execution_count": 14,
   "id": "6615818d",
   "metadata": {},
   "outputs": [],
   "source": [
    "import cv2"
   ]
  },
  {
   "cell_type": "code",
   "execution_count": 17,
   "id": "1e8af47b",
   "metadata": {},
   "outputs": [
    {
     "name": "stdout",
     "output_type": "stream",
     "text": [
      "Encoding Complete\n",
      "Alert: Student NAMRATA_152 has entered the class!\n",
      "FINAL ATTENDANCE STATUS PRESENT: NAMRATA_152\n",
      "Alert: Student NAMRATA_152 has left the class!\n",
      "Alert: Student NAMRATA_152 has entered the class!\n",
      "FINAL ATTENDANCE STATUS: TOTALLY ABSENT : Sayantika_151\n",
      "FINAL ATTENDANCE STATUS: TOTALLY ABSENT : Poulami_L207\n",
      "FINAL ATTENDANCE STATUS: TOTALLY ABSENT : Subhra_154\n",
      "FINAL ATTENDANCE STATUS: TOTALLY ABSENT : Souhardo_157\n",
      "FINAL ATTENDANCE STATUS: TOTALLY ABSENT : Namrata_152\n",
      "Email sent successfully to namrata2882m@gmail.com\n"
     ]
    }
   ],
   "source": [
    "import cv2\n",
    "import numpy as np\n",
    "import face_recognition\n",
    "import os\n",
    "import csv\n",
    "from datetime import datetime, timedelta\n",
    "import smtplib\n",
    "from email.mime.text import MIMEText\n",
    "from email.mime.multipart import MIMEMultipart\n",
    "from email.mime.application import MIMEApplication\n",
    "\n",
    "\n",
    "# Set the path to the directory containing subdirectories for each student\n",
    "path = 'goku'\n",
    "images = []\n",
    "classNames = []\n",
    "\n",
    "# Loop through all subdirectories (each representing a student)\n",
    "for student_dir in os.listdir(path):\n",
    "    student_path = os.path.join(path, student_dir)\n",
    "    \n",
    "    if os.path.isdir(student_path):\n",
    "        # Loop through all image files within the student's directory\n",
    "        for image_file in os.listdir(student_path):\n",
    "            image_path = os.path.join(student_path, image_file)\n",
    "            \n",
    "            if os.path.isfile(image_path):\n",
    "                # Load the image and append it to the 'images' list\n",
    "                curImg = cv2.imread(image_path)\n",
    "                \n",
    "                if curImg is not None:\n",
    "                    images.append(curImg)\n",
    "                    classNames.append(student_dir)  # Use the student's directory name as the class name\n",
    "                else:\n",
    "                    print(f\"Warning: Unable to load image {image_path}\")\n",
    "\n",
    "# Now, 'images' contains all the loaded images, and 'classNames' contains their corresponding student names.\n",
    "\n",
    "\n",
    "# Function to find encodings of known faces\n",
    "def findEncodings(images):\n",
    "    encodeList = []\n",
    "    for img in images:\n",
    "        img = cv2.cvtColor(img, cv2.COLOR_BGR2RGB)\n",
    "        encode = face_recognition.face_encodings(img, model=\"cnn\")[0]  # Use the CNN model for face recognition\n",
    "        encodeList.append(encode)\n",
    "    return encodeList\n",
    "\n",
    "\n",
    "\n",
    "# Function to mark attendance\n",
    "def markAttendance(name, csv_file, alert_message=None):\n",
    "    if name != \"Unknown\":  # Only mark attendance if the name is not \"Unknown\"\n",
    "        with open(csv_file, 'a', newline='') as f:\n",
    "            now = datetime.now()\n",
    "            date = now.strftime('%Y-%m-%d')\n",
    "            day_of_week = now.strftime('%A')\n",
    "            time_stamp = now.strftime('%H:%M:%S')\n",
    "            \n",
    "            if alert_message:\n",
    "                row = [name, date, day_of_week, time_stamp, alert_message]\n",
    "            else:\n",
    "                row = [name, date, day_of_week, time_stamp, alert_message]\n",
    "\n",
    "            writer = csv.writer(f)\n",
    "            writer.writerow(row)\n",
    "\n",
    "\n",
    "\n",
    "\n",
    "# Function to send an email with the CSV file as an attachment\n",
    "def send_email(csv_file):\n",
    "    # Email configuration\n",
    "    sender_email = 'subhrabandyopadhyay15@gmail.com'  # Change to your email\n",
    "    sender_password = 'lzks uedv fqco egir'  # Change to your email password\n",
    "    recipient_email = 'namrata2882m@gmail.com'  # Change to recipient's email\n",
    "    smtp_server = 'smtp.gmail.com'  # Change to your SMTP server\n",
    "    smtp_port = 587  # Change to your SMTP server's port\n",
    "\n",
    "    # Create the email message\n",
    "    msg = MIMEMultipart()\n",
    "    msg['From'] = sender_email\n",
    "    msg['To'] = recipient_email\n",
    "    msg['Subject'] = 'Attendance Report'\n",
    "\n",
    "    # Attach the CSV file\n",
    "    with open(csv_file, 'rb') as file:\n",
    "        part = MIMEApplication(file.read(), Name=os.path.basename(csv_file))\n",
    "        part['Content-Disposition'] = f'attachment; filename=\"{os.path.basename(csv_file)}\"'\n",
    "        msg.attach(part)\n",
    "\n",
    "    # Connect to the SMTP server and send the email\n",
    "    try:\n",
    "        server = smtplib.SMTP(smtp_server, smtp_port)\n",
    "        server.starttls()\n",
    "        server.login(sender_email, sender_password)\n",
    "        text = msg.as_string()\n",
    "        server.sendmail(sender_email, recipient_email, text)\n",
    "        server.quit()\n",
    "        print(f\"Email sent successfully to {recipient_email}\")\n",
    "    except Exception as e:\n",
    "        print(f\"Error sending email: {str(e)}\")\n",
    "\n",
    "# Initialize known face encodings\n",
    "encodeListKnown = findEncodings(images)\n",
    "print('Encoding Complete')\n",
    "\n",
    "# Initialize webcam capture\n",
    "cap = cv2.VideoCapture(0)\n",
    "\n",
    "# Generate a unique CSV file name based on the current timestamp\n",
    "csv_file = f'Attendance_Book_{datetime.now().strftime(\"%Y-%m-%d_%H-%M-%S\")}.csv'\n",
    "\n",
    "# Define the header row\n",
    "header = ['  NAME  ','  DATE  ',   '  DAY_OF_WEEK  ', '  TIME-STAMP  ', '  ATTENDANCE-STATUS  ']\n",
    "# Write the header row to the CSV file\n",
    "with open(csv_file, mode='w', newline='') as file:\n",
    "    writer = csv.writer(file)\n",
    "    writer.writerow(header)\n",
    "\n",
    "\n",
    "# Initialize attendance record\n",
    "attendance = {}\n",
    "crypto={}\n",
    "\n",
    "\n",
    "\n",
    "# Set the threshold time for student presence (adjust as needed)\n",
    "presence_threshold = timedelta(seconds=10)\n",
    "absence_threshold = timedelta(seconds=5)\n",
    "attendance_recorded = set()  # Initialize the set to keep track of recorded attendance\n",
    "\n",
    "# Set the tolerance for face recognition (adjust as needed, lower values are stricter)\n",
    "tolerance = 0.5\n",
    "\n",
    "# Create a set of all class names\n",
    "all_class_names = set(classNames)\n",
    "\n",
    "while True:\n",
    "    success, img = cap.read()\n",
    "    imgS = cv2.resize(img, (0, 0), None, 0.25, 0.25)\n",
    "    imgS = cv2.cvtColor(imgS, cv2.COLOR_BGR2RGB)\n",
    "\n",
    "    facesCurFrame = face_recognition.face_locations(imgS, model=\"cnn\")  # Use the CNN model for face detection\n",
    "    encodesCurFrame = face_recognition.face_encodings(imgS, facesCurFrame)\n",
    "\n",
    "    # Create a list to keep track of students present in the current frame\n",
    "    students_present = []\n",
    "\n",
    "    for encodeFace, faceLoc in zip(encodesCurFrame, facesCurFrame):\n",
    "        matches = face_recognition.compare_faces(encodeListKnown, encodeFace, tolerance=tolerance)\n",
    "        faceDis = face_recognition.face_distance(encodeListKnown, encodeFace)\n",
    "        matchIndex = np.argmin(faceDis)\n",
    "\n",
    "        if matches[matchIndex]:\n",
    "            student_name = classNames[matchIndex].upper()\n",
    "            confidence = 100 - (faceDis[matchIndex] * 100)  # Calculate confidence percentage\n",
    "            students_present.append(student_name)\n",
    "\n",
    "            y1, x2, y2, x1 = faceLoc\n",
    "            y1, x2, y2, x1 = y1 * 4, x2 * 4, y2 * 4, x1 * 4\n",
    "            cv2.rectangle(img, (x1, y1), (x2, y2), (0, 255, 0), 2)\n",
    "            cv2.rectangle(img, (x1, y2 - 35), (x2, y2), (0, 255, 0), cv2.FILLED)\n",
    "            cv2.putText(img, f\"{student_name} ({confidence:.2f}%)\", (x1 + 6, y2 - 6), cv2.FONT_HERSHEY_COMPLEX, 1, (0, 0, 255), 2)\n",
    "\n",
    "\n",
    "            if student_name not in attendance:\n",
    "                alert_message = f\"Alert: Student {student_name} has entered the class!\"\n",
    "                print(alert_message)\n",
    "                #markAttendance(student_name, csv_file, alert_message)\n",
    "                attendance[student_name] = datetime.now()\n",
    "                crypto[student_name]= datetime.now()\n",
    "                \n",
    "            else:\n",
    "                last_seen = attendance[student_name]\n",
    "                current_time = datetime.now()\n",
    "                time_difference = current_time - last_seen\n",
    "\n",
    "                # Check if the student has been present for at least 10 seconds\n",
    "                if time_difference >= presence_threshold:\n",
    "                    if student_name not in attendance_recorded:\n",
    "                        markAttendance(student_name, csv_file, \"FINAL ATTENDANCE STATUS: PRESENT\")\n",
    "                        attendance_recorded.add(student_name)\n",
    "                        \n",
    "                        print(\"FINAL ATTENDANCE STATUS PRESENT:\", student_name)\n",
    "                        \n",
    "        else:\n",
    "            # Unknown person logic\n",
    "            y1, x2, y2, x1 = faceLoc\n",
    "            y1, x2, y2, x1 = y1 * 4, x2 * 4, y2 * 4, x1 * 4\n",
    "            cv2.rectangle(img, (x1, y1), (x2, y2), (0, 0, 255), 2)  # Red rectangle\n",
    "            cv2.putText(img, \"Unknown\", (x1 + 6, y2 - 6), cv2.FONT_HERSHEY_COMPLEX, 1, (255, 255, 255), 2)\n",
    "\n",
    "           \n",
    "\n",
    "    # Check for students who were previously marked as present but are not in the current frame\n",
    "    for student_name, last_seen in list(attendance.items()):\n",
    "        if student_name not in students_present:\n",
    "            current_time = datetime.now()\n",
    "            time_difference = current_time - last_seen\n",
    "            if time_difference > absence_threshold:\n",
    "                alert_message = f\"Alert: Student {student_name} has left the class!\"\n",
    "                print(alert_message)\n",
    "                #markAttendance(student_name, csv_file, alert_message)\n",
    "                \n",
    "                \n",
    "                crypto[student_name]= datetime.now()\n",
    "                del attendance[student_name]\n",
    "                \n",
    "                \n",
    "\n",
    "\n",
    "    cv2.imshow('Webcam', img)\n",
    "    if cv2.waitKey(1) & 0xFF == ord('q'):\n",
    "        # Before exiting the program, add a final attendance entry for each student\n",
    "        for student_name in crypto:\n",
    "            if student_name not in attendance_recorded: \n",
    "                markAttendance(student_name, csv_file, \"FINAL ATTENDANCE STATUS: ABSENT AS THE STUDENT DID NOT SPEND MINIMUM TIME IN CLASS\")\n",
    "                print(\"FINAL ATTENDANCE STATUS: ABSENT AS THE STUDENT DID NOT SPEND MINIMUM TIME IN CLASS :\", student_name)\n",
    "        # Check for students who never entered the class and mark them as totally absent\n",
    "        totally_absent_students = all_class_names - set(attendance.keys())-set(crypto.keys())\n",
    "        for student_name in totally_absent_students:\n",
    "            markAttendance(student_name, csv_file, \"FINAL ATTENDANCE STATUS: TOTALLY ABSENT\")\n",
    "            print(\"FINAL ATTENDANCE STATUS: TOTALLY ABSENT :\", student_name)\n",
    "        # Close the CSV file\n",
    "        with open(csv_file, 'a') as f:\n",
    "            f.close()\n",
    "        \n",
    "        break\n",
    "\n",
    "# After attendance is marked, send the email with the CSV file\n",
    "send_email(csv_file)\n",
    "\n",
    "# Release the webcam and close all windows\n",
    "cap.release()\n",
    "cv2.destroyAllWindows()"
   ]
  },
  {
   "cell_type": "code",
   "execution_count": 19,
   "id": "45764877",
   "metadata": {},
   "outputs": [
    {
     "name": "stdout",
     "output_type": "stream",
     "text": [
      "Encoding Complete\n",
      "Alert: Student NAMRATA_152 has entered the class!\n",
      "FINAL ATTENDANCE STATUS PRESENT: NAMRATA_152\n",
      "FINAL ATTENDANCE STATUS: TOTALLY ABSENT : SOUHARDO_157\n",
      "FINAL ATTENDANCE STATUS: TOTALLY ABSENT : SUBHRA_154\n",
      "FINAL ATTENDANCE STATUS: TOTALLY ABSENT : POULAMI_L207\n",
      "FINAL ATTENDANCE STATUS: TOTALLY ABSENT : SAYANTIKA_151\n",
      "Email sent successfully to namrata2882m@gmail.com\n"
     ]
    }
   ],
   "source": [
    "import cv2\n",
    "import numpy as np\n",
    "import face_recognition\n",
    "import os\n",
    "import csv\n",
    "from datetime import datetime, timedelta\n",
    "import smtplib\n",
    "from email.mime.text import MIMEText\n",
    "from email.mime.multipart import MIMEMultipart\n",
    "from email.mime.application import MIMEApplication\n",
    "\n",
    "\n",
    "# Set the path to the directory containing subdirectories for each student\n",
    "path = 'goku'\n",
    "images = []\n",
    "classNames = []\n",
    "\n",
    "# Loop through all subdirectories (each representing a student)\n",
    "for student_dir in os.listdir(path):\n",
    "    student_path = os.path.join(path, student_dir)\n",
    "    \n",
    "    if os.path.isdir(student_path):\n",
    "        # Loop through all image files within the student's directory\n",
    "        for image_file in os.listdir(student_path):\n",
    "            image_path = os.path.join(student_path, image_file)\n",
    "            \n",
    "            if os.path.isfile(image_path):\n",
    "                # Load the image and append it to the 'images' list\n",
    "                curImg = cv2.imread(image_path)\n",
    "                \n",
    "                if curImg is not None:\n",
    "                    images.append(curImg)\n",
    "                    classNames.append(student_dir)  # Use the student's directory name as the class name\n",
    "                else:\n",
    "                    print(f\"Warning: Unable to load image {image_path}\")\n",
    "\n",
    "# Now, 'images' contains all the loaded images, and 'classNames' contains their corresponding student names.\n",
    "\n",
    "\n",
    "# Function to find encodings of known faces\n",
    "def findEncodings(images):\n",
    "    encodeList = []\n",
    "    for img in images:\n",
    "        img = cv2.cvtColor(img, cv2.COLOR_BGR2RGB)\n",
    "        encode = face_recognition.face_encodings(img, model=\"cnn\")[0]  # Use the CNN model for face recognition\n",
    "        encodeList.append(encode)\n",
    "    return encodeList\n",
    "\n",
    "\n",
    "\n",
    "# Function to mark attendance\n",
    "def markAttendance(name, csv_file, alert_message=None):\n",
    "    if name != \"Unknown\":  # Only mark attendance if the name is not \"Unknown\"\n",
    "        with open(csv_file, 'a', newline='') as f:\n",
    "            now = datetime.now()\n",
    "            date = now.strftime('%Y-%m-%d')\n",
    "            day_of_week = now.strftime('%A')\n",
    "            time_stamp = now.strftime('%H:%M:%S')\n",
    "            \n",
    "            if alert_message:\n",
    "                row = [name, date, day_of_week, time_stamp, alert_message]\n",
    "            else:\n",
    "                row = [name, date, day_of_week, time_stamp, alert_message]\n",
    "\n",
    "            writer = csv.writer(f)\n",
    "            writer.writerow(row)\n",
    "\n",
    "\n",
    "\n",
    "\n",
    "# Function to send an email with the CSV file as an attachment\n",
    "def send_email(csv_file):\n",
    "    # Email configuration\n",
    "    sender_email = 'subhrabandyopadhyay15@gmail.com'  # Change to your email\n",
    "    sender_password = 'lzks uedv fqco egir'  # Change to your email password\n",
    "    recipient_email = 'namrata2882m@gmail.com'  # Change to recipient's email\n",
    "    smtp_server = 'smtp.gmail.com'  # Change to your SMTP server\n",
    "    smtp_port = 587  # Change to your SMTP server's port\n",
    "\n",
    "    # Create the email message\n",
    "    msg = MIMEMultipart()\n",
    "    msg['From'] = sender_email\n",
    "    msg['To'] = recipient_email\n",
    "    msg['Subject'] = 'Attendance Report'\n",
    "\n",
    "    # Attach the CSV file\n",
    "    with open(csv_file, 'rb') as file:\n",
    "        part = MIMEApplication(file.read(), Name=os.path.basename(csv_file))\n",
    "        part['Content-Disposition'] = f'attachment; filename=\"{os.path.basename(csv_file)}\"'\n",
    "        msg.attach(part)\n",
    "\n",
    "    # Connect to the SMTP server and send the email\n",
    "    try:\n",
    "        server = smtplib.SMTP(smtp_server, smtp_port)\n",
    "        server.starttls()\n",
    "        server.login(sender_email, sender_password)\n",
    "        text = msg.as_string()\n",
    "        server.sendmail(sender_email, recipient_email, text)\n",
    "        server.quit()\n",
    "        print(f\"Email sent successfully to {recipient_email}\")\n",
    "    except Exception as e:\n",
    "        print(f\"Error sending email: {str(e)}\")\n",
    "\n",
    "# Initialize known face encodings\n",
    "encodeListKnown = findEncodings(images)\n",
    "print('Encoding Complete')\n",
    "\n",
    "# Initialize webcam capture\n",
    "cap = cv2.VideoCapture(0)\n",
    "\n",
    "# Generate a unique CSV file name based on the current timestamp\n",
    "csv_file = f'Attendance_Book_{datetime.now().strftime(\"%Y-%m-%d_%H-%M-%S\")}.csv'\n",
    "\n",
    "# Define the header row\n",
    "header = ['  NAME  ','  DATE  ',   '  DAY_OF_WEEK  ', '  TIME-STAMP  ', '  ATTENDANCE-STATUS  ']\n",
    "# Write the header row to the CSV file\n",
    "with open(csv_file, mode='w', newline='') as file:\n",
    "    writer = csv.writer(file)\n",
    "    writer.writerow(header)\n",
    "\n",
    "\n",
    "# Initialize attendance record\n",
    "attendance = {}\n",
    "crypto={}\n",
    "\n",
    "\n",
    "\n",
    "# Set the threshold time for student presence (adjust as needed)\n",
    "presence_threshold = timedelta(seconds=10)\n",
    "absence_threshold = timedelta(seconds=5)\n",
    "attendance_recorded = set()  # Initialize the set to keep track of recorded attendance\n",
    "\n",
    "# Set the tolerance for face recognition (adjust as needed, lower values are stricter)\n",
    "tolerance = 0.5\n",
    "\n",
    "# Create a set of all class names\n",
    "all_class_names = set(classNames)\n",
    "\n",
    "while True:\n",
    "    success, img = cap.read()\n",
    "    imgS = cv2.resize(img, (0, 0), None, 0.25, 0.25)\n",
    "    imgS = cv2.cvtColor(imgS, cv2.COLOR_BGR2RGB)\n",
    "\n",
    "    facesCurFrame = face_recognition.face_locations(imgS, model=\"cnn\")  # Use the CNN model for face detection\n",
    "    encodesCurFrame = face_recognition.face_encodings(imgS, facesCurFrame)\n",
    "\n",
    "    # Create a list to keep track of students present in the current frame\n",
    "    students_present = []\n",
    "\n",
    "    for encodeFace, faceLoc in zip(encodesCurFrame, facesCurFrame):\n",
    "        matches = face_recognition.compare_faces(encodeListKnown, encodeFace, tolerance=tolerance)\n",
    "        faceDis = face_recognition.face_distance(encodeListKnown, encodeFace)\n",
    "        matchIndex = np.argmin(faceDis)\n",
    "\n",
    "        if matches[matchIndex]:\n",
    "            student_name = classNames[matchIndex].upper()\n",
    "            confidence = 100 - (faceDis[matchIndex] * 100)  # Calculate confidence percentage\n",
    "            students_present.append(student_name)\n",
    "\n",
    "            y1, x2, y2, x1 = faceLoc\n",
    "            y1, x2, y2, x1 = y1 * 4, x2 * 4, y2 * 4, x1 * 4\n",
    "            cv2.rectangle(img, (x1, y1), (x2, y2), (0, 255, 0), 2)\n",
    "            cv2.rectangle(img, (x1, y2 - 35), (x2, y2), (0, 255, 0), cv2.FILLED)\n",
    "            cv2.putText(img, f\"{student_name} ({confidence:.2f}%)\", (x1 + 6, y2 - 6), cv2.FONT_HERSHEY_COMPLEX, 1, (0, 0, 255), 2)\n",
    "\n",
    "\n",
    "            if student_name not in attendance:\n",
    "                alert_message = f\"Alert: Student {student_name} has entered the class!\"\n",
    "                print(alert_message)\n",
    "                #markAttendance(student_name, csv_file, alert_message)\n",
    "                attendance[student_name] = datetime.now()\n",
    "                crypto[student_name]= datetime.now()\n",
    "                \n",
    "            else:\n",
    "                last_seen = attendance[student_name]\n",
    "                current_time = datetime.now()\n",
    "                time_difference = current_time - last_seen\n",
    "\n",
    "                # Check if the student has been present for at least 10 seconds\n",
    "                if time_difference >= presence_threshold:\n",
    "                    if student_name not in attendance_recorded:\n",
    "                        markAttendance(student_name, csv_file, \"FINAL ATTENDANCE STATUS: PRESENT\")\n",
    "                        attendance_recorded.add(student_name)\n",
    "                        \n",
    "                        print(\"FINAL ATTENDANCE STATUS PRESENT:\", student_name)\n",
    "                        \n",
    "        else:\n",
    "            # Unknown person logic\n",
    "            y1, x2, y2, x1 = faceLoc\n",
    "            y1, x2, y2, x1 = y1 * 4, x2 * 4, y2 * 4, x1 * 4\n",
    "            cv2.rectangle(img, (x1, y1), (x2, y2), (0, 0, 255), 2)  # Red rectangle\n",
    "            cv2.putText(img, \"Unknown\", (x1 + 6, y2 - 6), cv2.FONT_HERSHEY_COMPLEX, 1, (255, 255, 255), 2)\n",
    "\n",
    "           \n",
    "\n",
    "    # Check for students who were previously marked as present but are not in the current frame\n",
    "    for student_name, last_seen in list(attendance.items()):\n",
    "        if student_name not in students_present:\n",
    "            current_time = datetime.now()\n",
    "            time_difference = current_time - last_seen\n",
    "            if time_difference > absence_threshold:\n",
    "                alert_message = f\"Alert: Student {student_name} has left the class!\"\n",
    "                print(alert_message)\n",
    "                #markAttendance(student_name, csv_file, alert_message)\n",
    "                \n",
    "                \n",
    "                crypto[student_name]= datetime.now()\n",
    "                del attendance[student_name]\n",
    "                \n",
    "                \n",
    "\n",
    "\n",
    "    cv2.imshow('Webcam', img)\n",
    "    if cv2.waitKey(1) & 0xFF == ord('q'):\n",
    "        # Before exiting the program, add a final attendance entry for each student\n",
    "        for student_name in crypto:\n",
    "            if student_name not in attendance_recorded: \n",
    "                markAttendance(student_name, csv_file, \"FINAL ATTENDANCE STATUS: ABSENT AS THE STUDENT DID NOT SPEND MINIMUM TIME IN CLASS\")\n",
    "                print(\"FINAL ATTENDANCE STATUS: ABSENT AS THE STUDENT DID NOT SPEND MINIMUM TIME IN CLASS :\", student_name)\n",
    "        # Check for students who never entered the class and mark them as totally absent\n",
    "        totally_absent_students = all_class_names - set(attendance.keys())-set(crypto.keys())\n",
    "        for student_name in totally_absent_students:\n",
    "            markAttendance(student_name, csv_file, \"FINAL ATTENDANCE STATUS: TOTALLY ABSENT\")\n",
    "            print(\"FINAL ATTENDANCE STATUS: TOTALLY ABSENT :\", student_name)\n",
    "        # Close the CSV file\n",
    "        with open(csv_file, 'a') as f:\n",
    "            f.close()\n",
    "        \n",
    "        break\n",
    "\n",
    "# After attendance is marked, send the email with the CSV file\n",
    "send_email(csv_file)\n",
    "\n",
    "# Release the webcam and close all windows\n",
    "cap.release()\n",
    "cv2.destroyAllWindows()"
   ]
  },
  {
   "cell_type": "code",
   "execution_count": null,
   "id": "88fed88b",
   "metadata": {},
   "outputs": [],
   "source": []
  }
 ],
 "metadata": {
  "kernelspec": {
   "display_name": "Python 3 (ipykernel)",
   "language": "python",
   "name": "python3"
  },
  "language_info": {
   "codemirror_mode": {
    "name": "ipython",
    "version": 3
   },
   "file_extension": ".py",
   "mimetype": "text/x-python",
   "name": "python",
   "nbconvert_exporter": "python",
   "pygments_lexer": "ipython3",
   "version": "3.9.13"
  }
 },
 "nbformat": 4,
 "nbformat_minor": 5
}
